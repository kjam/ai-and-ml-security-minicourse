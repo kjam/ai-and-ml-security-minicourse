{
 "cells": [
  {
   "cell_type": "markdown",
   "metadata": {},
   "source": [
    "### Adversarial Detection using FeatureSqueezing and MagNet\n",
    "\n",
    "In this notebook, we'll explore adversarial detection using FeatureSqueezing and MagNet. This code has been adapted from [the EvadeML repository](https://github.com/mzweilin/EvadeML-Zoo) with changes to enable it to run properly with Python3 and Jupyter notebooks.\n",
    "\n",
    "To run locally, I recommend following the latest instructions on the EvadeML repository and the [MagNet repository](https://github.com/Trevillie/MagNet)."
   ]
  },
  {
   "cell_type": "code",
   "execution_count": null,
   "metadata": {},
   "outputs": [],
   "source": [
    "%matplotlib inline"
   ]
  },
  {
   "cell_type": "code",
   "execution_count": null,
   "metadata": {},
   "outputs": [],
   "source": [
    "cd ../EvadeML-Zoo"
   ]
  },
  {
   "cell_type": "code",
   "execution_count": null,
   "metadata": {},
   "outputs": [],
   "source": [
    "from main import main"
   ]
  },
  {
   "cell_type": "code",
   "execution_count": null,
   "metadata": {},
   "outputs": [],
   "source": [
    "main(dataset_name=\"MNIST\", \n",
    "     model_name=\"cleverhans\", \n",
    "     detection=\"MagNet\",\n",
    "     attacks=\"FGSM?eps=0.1;BIM?eps=0.1&eps_iter=0.02;JSMA?targeted=next\"\n",
    ")"
   ]
  },
  {
   "cell_type": "markdown",
   "metadata": {},
   "source": [
    "### Let's check out the adversarial examples generated"
   ]
  },
  {
   "cell_type": "code",
   "execution_count": null,
   "metadata": {},
   "outputs": [],
   "source": [
    "from IPython.display import Image \n",
    "from glob import glob\n",
    "\n",
    "for img in glob('results/MNIST_100_1d1b8_cleverhans/MNIST_100*.png'):\n",
    "    print(\"Attack\", img)\n",
    "    display(Image(filename=img))"
   ]
  },
  {
   "cell_type": "markdown",
   "metadata": {},
   "source": [
    "#### Your Turn:\n",
    "- How does FeatureSqueezing compare as a detection mechanism? To use the FeatureSqueezing, you will need to add proper parameters. Run the below cell for a few examples.\n",
    "- Try a different attack or detection (to see all options, use `main(show_help=True)`).\n",
    "- Try setting different parameters for the cleverhans attack above.\n",
    "- Are your new attacks more successful? Why or why not?"
   ]
  },
  {
   "cell_type": "code",
   "execution_count": null,
   "metadata": {},
   "outputs": [],
   "source": []
  },
  {
   "cell_type": "code",
   "execution_count": null,
   "metadata": {},
   "outputs": [],
   "source": []
  },
  {
   "cell_type": "code",
   "execution_count": null,
   "metadata": {},
   "outputs": [],
   "source": [
    "!cat Reproduce_FeatureSqueezing.md | grep FeatureSqueezing"
   ]
  },
  {
   "cell_type": "code",
   "execution_count": null,
   "metadata": {},
   "outputs": [],
   "source": [
    "# %load ../solutions/feature_squeezing_detection.py\n"
   ]
  },
  {
   "cell_type": "markdown",
   "metadata": {},
   "source": [
    "### And let's take a look at what attacks were not detected!"
   ]
  },
  {
   "cell_type": "code",
   "execution_count": null,
   "metadata": {},
   "outputs": [],
   "source": [
    "from IPython.display import Image \n",
    "from glob import glob\n",
    "\n",
    "for img in glob('results/MNIST_100_1d1b8_cleverhans/undetected_attacks_*'):\n",
    "    print(img)\n",
    "    display(Image(filename=img))"
   ]
  },
  {
   "cell_type": "code",
   "execution_count": null,
   "metadata": {},
   "outputs": [],
   "source": [
    "main(dataset_name=\"CIFAR-10\", \n",
    "     model_name=\"carlini\", \n",
    "     attacks=\"fgsm?eps=0.0156;bim?eps=0.008&eps_iter=0.0012;deepfool?overshoot=10;carlinil2?targeted=next&batch_size=100&max_iterations=1000&confidence=5;carlinil2?targeted=ll&batch_size=100&max_iterations=1000&confidence=5;carlinil0?targeted=next&confidence=5;carlinil0?targeted=ll&confidence=5;jsma?targeted=next;jsma?targeted=ll;\",\n",
    "     detection=\"FeatureSqueezing?squeezers=bit_depth_5,median_filter_2_2,non_local_means_color_13_3_2&distance_measure=l1&threshold=1.7547;MagNet\"\n",
    ")"
   ]
  },
  {
   "cell_type": "code",
   "execution_count": null,
   "metadata": {},
   "outputs": [],
   "source": [
    "from IPython.display import Image \n",
    "from glob import glob\n",
    "\n",
    "for img in glob('results/CIFAR*/undetected_attacks_*'):\n",
    "    print(img)\n",
    "    display(Image(filename=img))"
   ]
  },
  {
   "cell_type": "markdown",
   "metadata": {},
   "source": [
    "### Questions for Discussion\n",
    "\n",
    "- Why might this example have gone undetected?\n",
    "- Out of the adversarial images, which can you identify? \n",
    "- As we can see from the detection rate, this works fairly well with MNIST; but it works much less well for color images, why might that be?"
   ]
  }
 ],
 "metadata": {
  "kernelspec": {
   "display_name": "Python 3",
   "language": "python",
   "name": "python3"
  },
  "language_info": {
   "codemirror_mode": {
    "name": "ipython",
    "version": 3
   },
   "file_extension": ".py",
   "mimetype": "text/x-python",
   "name": "python",
   "nbconvert_exporter": "python",
   "pygments_lexer": "ipython3",
   "version": "3.6.6"
  }
 },
 "nbformat": 4,
 "nbformat_minor": 2
}
